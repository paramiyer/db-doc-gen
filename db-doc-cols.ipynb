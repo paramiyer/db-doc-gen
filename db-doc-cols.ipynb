{
 "cells": [
  {
   "cell_type": "code",
   "execution_count": 10,
   "id": "b880f3b8-8dc4-44e7-80a3-920704d992b4",
   "metadata": {},
   "outputs": [],
   "source": [
    "import os\n",
    "import yaml\n",
    "import pandas as pd\n",
    "from metadata import fetch_all_tables, fetch_table_metadata\n",
    "from col_description import generate_column_descriptions\n",
    "from dbml_file import generate_dbml_file, publish_dbdocs\n",
    "import pandas as pd\n",
    "from sqlalchemy import create_engine, inspect\n",
    "import openai\n",
    "import re\n",
    "from dotenv import load_dotenv"
   ]
  },
  {
   "cell_type": "code",
   "execution_count": 11,
   "id": "5c9bab80-8339-4e69-ab18-362c76a81f9e",
   "metadata": {},
   "outputs": [],
   "source": [
    "with open(\"user_config.yaml\") as f:\n",
    "        config = yaml.safe_load(f)\n"
   ]
  },
  {
   "cell_type": "code",
   "execution_count": 12,
   "id": "8836bc94-0191-4c48-a684-1e28362a87d1",
   "metadata": {},
   "outputs": [
    {
     "data": {
      "text/plain": [
       "True"
      ]
     },
     "execution_count": 12,
     "metadata": {},
     "output_type": "execute_result"
    }
   ],
   "source": [
    "db_uri = config[\"db_uri\"]\n",
    "schema = config[\"schema\"]\n",
    "prompt = config['user_prompt']\n",
    "load_dotenv(config['dotenv_path'])"
   ]
  },
  {
   "cell_type": "code",
   "execution_count": 13,
   "id": "2e74b999-75fe-4695-9454-f8c04422f448",
   "metadata": {},
   "outputs": [],
   "source": [
    "tables = fetch_all_tables(db_uri,schema )"
   ]
  },
  {
   "cell_type": "code",
   "execution_count": 14,
   "id": "deadb400-029e-428f-9d9c-a20d3f104b3a",
   "metadata": {},
   "outputs": [
    {
     "data": {
      "text/plain": [
       "['Artist',\n",
       " 'Album',\n",
       " 'Employee',\n",
       " 'Customer',\n",
       " 'Invoice',\n",
       " 'InvoiceLine',\n",
       " 'Track',\n",
       " 'Playlist',\n",
       " 'PlaylistTrack',\n",
       " 'Genre',\n",
       " 'MediaType']"
      ]
     },
     "execution_count": 14,
     "metadata": {},
     "output_type": "execute_result"
    }
   ],
   "source": [
    "tables"
   ]
  },
  {
   "cell_type": "code",
   "execution_count": 15,
   "id": "e55b3c25-bc40-4e17-9ad3-3336bc40365d",
   "metadata": {},
   "outputs": [],
   "source": [
    "df_schema = fetch_table_metadata(db_uri,schema, tables)"
   ]
  },
  {
   "cell_type": "code",
   "execution_count": 16,
   "id": "d598bbc3-b691-46e6-ac6d-6a943d17223a",
   "metadata": {},
   "outputs": [
    {
     "data": {
      "text/html": [
       "<div>\n",
       "<style scoped>\n",
       "    .dataframe tbody tr th:only-of-type {\n",
       "        vertical-align: middle;\n",
       "    }\n",
       "\n",
       "    .dataframe tbody tr th {\n",
       "        vertical-align: top;\n",
       "    }\n",
       "\n",
       "    .dataframe thead th {\n",
       "        text-align: right;\n",
       "    }\n",
       "</style>\n",
       "<table border=\"1\" class=\"dataframe\">\n",
       "  <thead>\n",
       "    <tr style=\"text-align: right;\">\n",
       "      <th></th>\n",
       "      <th>Table</th>\n",
       "      <th>Col</th>\n",
       "      <th>Data Type</th>\n",
       "      <th>Key</th>\n",
       "      <th>Index</th>\n",
       "      <th>Description</th>\n",
       "    </tr>\n",
       "  </thead>\n",
       "  <tbody>\n",
       "    <tr>\n",
       "      <th>0</th>\n",
       "      <td>Artist</td>\n",
       "      <td>ArtistId</td>\n",
       "      <td>INTEGER</td>\n",
       "      <td>PK</td>\n",
       "      <td>No</td>\n",
       "      <td>None</td>\n",
       "    </tr>\n",
       "    <tr>\n",
       "      <th>1</th>\n",
       "      <td>Artist</td>\n",
       "      <td>Name</td>\n",
       "      <td>VARCHAR(120)</td>\n",
       "      <td></td>\n",
       "      <td>No</td>\n",
       "      <td>None</td>\n",
       "    </tr>\n",
       "    <tr>\n",
       "      <th>2</th>\n",
       "      <td>Album</td>\n",
       "      <td>AlbumId</td>\n",
       "      <td>INTEGER</td>\n",
       "      <td>PK</td>\n",
       "      <td>No</td>\n",
       "      <td>None</td>\n",
       "    </tr>\n",
       "    <tr>\n",
       "      <th>3</th>\n",
       "      <td>Album</td>\n",
       "      <td>Title</td>\n",
       "      <td>VARCHAR(160)</td>\n",
       "      <td></td>\n",
       "      <td>No</td>\n",
       "      <td>None</td>\n",
       "    </tr>\n",
       "    <tr>\n",
       "      <th>4</th>\n",
       "      <td>Album</td>\n",
       "      <td>ArtistId</td>\n",
       "      <td>INTEGER</td>\n",
       "      <td>FK</td>\n",
       "      <td>Yes</td>\n",
       "      <td>None</td>\n",
       "    </tr>\n",
       "    <tr>\n",
       "      <th>...</th>\n",
       "      <td>...</td>\n",
       "      <td>...</td>\n",
       "      <td>...</td>\n",
       "      <td>...</td>\n",
       "      <td>...</td>\n",
       "      <td>...</td>\n",
       "    </tr>\n",
       "    <tr>\n",
       "      <th>59</th>\n",
       "      <td>PlaylistTrack</td>\n",
       "      <td>TrackId</td>\n",
       "      <td>INTEGER</td>\n",
       "      <td>PK</td>\n",
       "      <td>Yes</td>\n",
       "      <td>None</td>\n",
       "    </tr>\n",
       "    <tr>\n",
       "      <th>60</th>\n",
       "      <td>Genre</td>\n",
       "      <td>GenreId</td>\n",
       "      <td>INTEGER</td>\n",
       "      <td>PK</td>\n",
       "      <td>No</td>\n",
       "      <td>None</td>\n",
       "    </tr>\n",
       "    <tr>\n",
       "      <th>61</th>\n",
       "      <td>Genre</td>\n",
       "      <td>Name</td>\n",
       "      <td>VARCHAR(120)</td>\n",
       "      <td></td>\n",
       "      <td>No</td>\n",
       "      <td>None</td>\n",
       "    </tr>\n",
       "    <tr>\n",
       "      <th>62</th>\n",
       "      <td>MediaType</td>\n",
       "      <td>MediaTypeId</td>\n",
       "      <td>INTEGER</td>\n",
       "      <td>PK</td>\n",
       "      <td>No</td>\n",
       "      <td>None</td>\n",
       "    </tr>\n",
       "    <tr>\n",
       "      <th>63</th>\n",
       "      <td>MediaType</td>\n",
       "      <td>Name</td>\n",
       "      <td>VARCHAR(120)</td>\n",
       "      <td></td>\n",
       "      <td>No</td>\n",
       "      <td>None</td>\n",
       "    </tr>\n",
       "  </tbody>\n",
       "</table>\n",
       "<p>64 rows × 6 columns</p>\n",
       "</div>"
      ],
      "text/plain": [
       "            Table          Col     Data Type Key Index Description\n",
       "0          Artist     ArtistId       INTEGER  PK    No        None\n",
       "1          Artist         Name  VARCHAR(120)        No        None\n",
       "2           Album      AlbumId       INTEGER  PK    No        None\n",
       "3           Album        Title  VARCHAR(160)        No        None\n",
       "4           Album     ArtistId       INTEGER  FK   Yes        None\n",
       "..            ...          ...           ...  ..   ...         ...\n",
       "59  PlaylistTrack      TrackId       INTEGER  PK   Yes        None\n",
       "60          Genre      GenreId       INTEGER  PK    No        None\n",
       "61          Genre         Name  VARCHAR(120)        No        None\n",
       "62      MediaType  MediaTypeId       INTEGER  PK    No        None\n",
       "63      MediaType         Name  VARCHAR(120)        No        None\n",
       "\n",
       "[64 rows x 6 columns]"
      ]
     },
     "execution_count": 16,
     "metadata": {},
     "output_type": "execute_result"
    }
   ],
   "source": [
    "df_schema"
   ]
  },
  {
   "cell_type": "code",
   "execution_count": 8,
   "id": "3a5e01cc-2ddc-4833-b93a-98941a9327b4",
   "metadata": {},
   "outputs": [],
   "source": [
    "#Write descriptions to cols using gpt-2.5-turbo\n",
    "df_schema_updated = generate_column_descriptions(df_schema, 'user_config.yaml')"
   ]
  },
  {
   "cell_type": "code",
   "execution_count": 17,
   "id": "b3d60381-e3f2-4cea-8d3c-398a1299b8d4",
   "metadata": {},
   "outputs": [
    {
     "data": {
      "text/html": [
       "<div>\n",
       "<style scoped>\n",
       "    .dataframe tbody tr th:only-of-type {\n",
       "        vertical-align: middle;\n",
       "    }\n",
       "\n",
       "    .dataframe tbody tr th {\n",
       "        vertical-align: top;\n",
       "    }\n",
       "\n",
       "    .dataframe thead th {\n",
       "        text-align: right;\n",
       "    }\n",
       "</style>\n",
       "<table border=\"1\" class=\"dataframe\">\n",
       "  <thead>\n",
       "    <tr style=\"text-align: right;\">\n",
       "      <th></th>\n",
       "      <th>Table</th>\n",
       "      <th>Col</th>\n",
       "      <th>Data Type</th>\n",
       "      <th>Key</th>\n",
       "      <th>Index</th>\n",
       "      <th>Description</th>\n",
       "    </tr>\n",
       "  </thead>\n",
       "  <tbody>\n",
       "    <tr>\n",
       "      <th>0</th>\n",
       "      <td>Artist</td>\n",
       "      <td>ArtistId</td>\n",
       "      <td>INTEGER</td>\n",
       "      <td>PK</td>\n",
       "      <td>No</td>\n",
       "      <td>ID for artist</td>\n",
       "    </tr>\n",
       "    <tr>\n",
       "      <th>1</th>\n",
       "      <td>Artist</td>\n",
       "      <td>Name</td>\n",
       "      <td>VARCHAR(120)</td>\n",
       "      <td></td>\n",
       "      <td>No</td>\n",
       "      <td>Artist name</td>\n",
       "    </tr>\n",
       "    <tr>\n",
       "      <th>2</th>\n",
       "      <td>Album</td>\n",
       "      <td>AlbumId</td>\n",
       "      <td>INTEGER</td>\n",
       "      <td>PK</td>\n",
       "      <td>No</td>\n",
       "      <td>ID for album</td>\n",
       "    </tr>\n",
       "    <tr>\n",
       "      <th>3</th>\n",
       "      <td>Album</td>\n",
       "      <td>Title</td>\n",
       "      <td>VARCHAR(160)</td>\n",
       "      <td></td>\n",
       "      <td>No</td>\n",
       "      <td>Album title</td>\n",
       "    </tr>\n",
       "    <tr>\n",
       "      <th>4</th>\n",
       "      <td>Album</td>\n",
       "      <td>ArtistId</td>\n",
       "      <td>INTEGER</td>\n",
       "      <td>FK</td>\n",
       "      <td>Yes</td>\n",
       "      <td>ID for artist</td>\n",
       "    </tr>\n",
       "    <tr>\n",
       "      <th>...</th>\n",
       "      <td>...</td>\n",
       "      <td>...</td>\n",
       "      <td>...</td>\n",
       "      <td>...</td>\n",
       "      <td>...</td>\n",
       "      <td>...</td>\n",
       "    </tr>\n",
       "    <tr>\n",
       "      <th>59</th>\n",
       "      <td>PlaylistTrack</td>\n",
       "      <td>TrackId</td>\n",
       "      <td>INTEGER</td>\n",
       "      <td>PK</td>\n",
       "      <td>Yes</td>\n",
       "      <td>ID for track</td>\n",
       "    </tr>\n",
       "    <tr>\n",
       "      <th>60</th>\n",
       "      <td>Genre</td>\n",
       "      <td>GenreId</td>\n",
       "      <td>INTEGER</td>\n",
       "      <td>PK</td>\n",
       "      <td>No</td>\n",
       "      <td>ID for genre</td>\n",
       "    </tr>\n",
       "    <tr>\n",
       "      <th>61</th>\n",
       "      <td>Genre</td>\n",
       "      <td>Name</td>\n",
       "      <td>VARCHAR(120)</td>\n",
       "      <td></td>\n",
       "      <td>No</td>\n",
       "      <td>Genre name</td>\n",
       "    </tr>\n",
       "    <tr>\n",
       "      <th>62</th>\n",
       "      <td>MediaType</td>\n",
       "      <td>MediaTypeId</td>\n",
       "      <td>INTEGER</td>\n",
       "      <td>PK</td>\n",
       "      <td>No</td>\n",
       "      <td>ID for media type</td>\n",
       "    </tr>\n",
       "    <tr>\n",
       "      <th>63</th>\n",
       "      <td>MediaType</td>\n",
       "      <td>Name</td>\n",
       "      <td>VARCHAR(120)</td>\n",
       "      <td></td>\n",
       "      <td>No</td>\n",
       "      <td>Media type name</td>\n",
       "    </tr>\n",
       "  </tbody>\n",
       "</table>\n",
       "<p>64 rows × 6 columns</p>\n",
       "</div>"
      ],
      "text/plain": [
       "            Table          Col     Data Type Key Index        Description\n",
       "0          Artist     ArtistId       INTEGER  PK    No      ID for artist\n",
       "1          Artist         Name  VARCHAR(120)        No        Artist name\n",
       "2           Album      AlbumId       INTEGER  PK    No       ID for album\n",
       "3           Album        Title  VARCHAR(160)        No        Album title\n",
       "4           Album     ArtistId       INTEGER  FK   Yes      ID for artist\n",
       "..            ...          ...           ...  ..   ...                ...\n",
       "59  PlaylistTrack      TrackId       INTEGER  PK   Yes       ID for track\n",
       "60          Genre      GenreId       INTEGER  PK    No       ID for genre\n",
       "61          Genre         Name  VARCHAR(120)        No         Genre name\n",
       "62      MediaType  MediaTypeId       INTEGER  PK    No  ID for media type\n",
       "63      MediaType         Name  VARCHAR(120)        No    Media type name\n",
       "\n",
       "[64 rows x 6 columns]"
      ]
     },
     "execution_count": 17,
     "metadata": {},
     "output_type": "execute_result"
    }
   ],
   "source": [
    "df_schema_updated"
   ]
  },
  {
   "cell_type": "code",
   "execution_count": 18,
   "id": "386e77d9-9886-49d8-88c6-0dfdf052bb26",
   "metadata": {},
   "outputs": [
    {
     "name": "stdout",
     "output_type": "stream",
     "text": [
      "✅ DBML file written to: chinhook.dbml\n"
     ]
    }
   ],
   "source": [
    "generate_dbml_file(df_schema_updated, config['output_filename'])"
   ]
  },
  {
   "cell_type": "code",
   "execution_count": 19,
   "id": "86de9107-4fd4-4c94-859f-5801bd5459f6",
   "metadata": {},
   "outputs": [
    {
     "name": "stdout",
     "output_type": "stream",
     "text": [
      "✅ DBML published successfully.\n",
      "\n",
      "🔗 View your schema: https://dbdocs.io/paramiyer/chinhookv2\n"
     ]
    }
   ],
   "source": [
    "publish_dbdocs('chinhook.dbml', 'chinhookv2', 'paramiyer@gmail.com')"
   ]
  }
 ],
 "metadata": {
  "kernelspec": {
   "display_name": "db-doc-schema",
   "language": "python",
   "name": "db-doc-schema"
  },
  "language_info": {
   "codemirror_mode": {
    "name": "ipython",
    "version": 3
   },
   "file_extension": ".py",
   "mimetype": "text/x-python",
   "name": "python",
   "nbconvert_exporter": "python",
   "pygments_lexer": "ipython3",
   "version": "3.11.9"
  }
 },
 "nbformat": 4,
 "nbformat_minor": 5
}
